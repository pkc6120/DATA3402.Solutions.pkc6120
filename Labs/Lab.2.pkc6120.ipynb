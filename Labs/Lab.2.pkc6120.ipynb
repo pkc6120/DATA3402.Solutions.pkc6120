{
 "cells": [
  {
   "cell_type": "markdown",
   "metadata": {},
   "source": [
    "## Lab 2- Tic Tac Toe\n",
    "\n",
    "In this lab your will build a n x n Tic Tac Toe game. As you do the exercises, make sure your solutions work for any size Tic Tac Toe game. "
   ]
  },
  {
   "cell_type": "markdown",
   "metadata": {},
   "source": [
    "*Exercise 1:* Write a function that creates an n by n matrix (of list of lists) which will represent the state of a Tie Tac Toe game. Let 0, 1, and 2 represent empty, \"X\", and \"O\", respectively.\n"
   ]
  },
  {
   "cell_type": "code",
   "execution_count": 3,
   "metadata": {},
   "outputs": [],
   "source": [
    "def create_tttb(n):\n",
    "    if n < 2:\n",
    "        raise ValueError(\"The board size must be at least 2x2\")\n",
    "\n",
    "    board = [[0] * n for _ in range(n)]\n",
    "\n",
    "    return board"
   ]
  },
  {
   "cell_type": "code",
   "execution_count": 4,
   "metadata": {},
   "outputs": [
    {
     "name": "stdout",
     "output_type": "stream",
     "text": [
      "[0, 0, 0]\n",
      "[0, 0, 0]\n",
      "[0, 0, 0]\n"
     ]
    }
   ],
   "source": [
    "n = 3\n",
    "tttb = create_tttb(n)\n",
    "for row in tttb:\n",
    "    print(row)"
   ]
  },
  {
   "cell_type": "markdown",
   "metadata": {},
   "source": [
    "*Exercise 2:* Write a function that takes 2 integers `n` and `m` as input and draws a `n` by `m` game board. For example the following is a 3x3 board:\n",
    "```\n",
    "   --- --- --- \n",
    "  |   |   |   | \n",
    "   --- --- ---  \n",
    "  |   |   |   | \n",
    "   --- --- ---  \n",
    "  |   |   |   | \n",
    "   --- --- --- \n",
    "   ```"
   ]
  },
  {
   "cell_type": "code",
   "execution_count": 5,
   "metadata": {},
   "outputs": [],
   "source": [
    "def draw_board(n, m):\n",
    "    if n < 1 or m < 1:\n",
    "        raise ValueError(\"Both n and m must be at least 1\")\n",
    "\n",
    "    h_line = \" ---\" * m\n",
    "    v_line = \"|   \" * (m+1)\n",
    "\n",
    "    for i in range(n):\n",
    "        print(h_line)\n",
    "\n",
    "        if i < n:\n",
    "            print(v_line)\n",
    "\n",
    "    print(h_line)"
   ]
  },
  {
   "cell_type": "code",
   "execution_count": 6,
   "metadata": {},
   "outputs": [
    {
     "name": "stdout",
     "output_type": "stream",
     "text": [
      " --- --- --- --- --- ---\n",
      "|   |   |   |   |   |   |   \n",
      " --- --- --- --- --- ---\n",
      "|   |   |   |   |   |   |   \n",
      " --- --- --- --- --- ---\n",
      "|   |   |   |   |   |   |   \n",
      " --- --- --- --- --- ---\n",
      "|   |   |   |   |   |   |   \n",
      " --- --- --- --- --- ---\n",
      "|   |   |   |   |   |   |   \n",
      " --- --- --- --- --- ---\n",
      "|   |   |   |   |   |   |   \n",
      " --- --- --- --- --- ---\n",
      "|   |   |   |   |   |   |   \n",
      " --- --- --- --- --- ---\n",
      "|   |   |   |   |   |   |   \n",
      " --- --- --- --- --- ---\n"
     ]
    }
   ],
   "source": [
    "n = 8\n",
    "m = 6\n",
    "draw_board(n, m)"
   ]
  },
  {
   "cell_type": "markdown",
   "metadata": {},
   "source": [
    "*Exercise 3:* Modify exercise 2, so that it takes a matrix of the form from exercise 1 and draws a tic-tac-tie board with \"X\"s and \"O\"s.  "
   ]
  },
  {
   "cell_type": "code",
   "execution_count": 7,
   "metadata": {},
   "outputs": [],
   "source": [
    "def draw_tttb(board):\n",
    "    if not all(isinstance(row, list) and len(row) == len(board) for row in board):\n",
    "        raise ValueError(\"Invalid Tic Tac Toe format\")\n",
    "\n",
    "    n = len(board)\n",
    "\n",
    "    h_line = \" ---\" * n\n",
    "    v_line = \"|   \" * (n + 1)\n",
    "\n",
    "    for i in range(n):\n",
    "        print(h_line)\n",
    "\n",
    "        for j in range(n):\n",
    "            value = board[i][j]\n",
    "            if value == 1:\n",
    "                print(\"| X \", end=\"\")\n",
    "            elif value == 2:\n",
    "                print(\"| O \", end=\"\")\n",
    "            else:\n",
    "                print(\"|   \", end=\"\")\n",
    "\n",
    "        print(\"|\")\n",
    "\n",
    "    print(h_line)"
   ]
  },
  {
   "cell_type": "code",
   "execution_count": 8,
   "metadata": {},
   "outputs": [
    {
     "name": "stdout",
     "output_type": "stream",
     "text": [
      " --- --- ---\n",
      "|   | X | O |\n",
      " --- --- ---\n",
      "| X | O |   |\n",
      " --- --- ---\n",
      "| O |   | X |\n",
      " --- --- ---\n"
     ]
    }
   ],
   "source": [
    "tttb = [\n",
    "    [0, 1, 2],\n",
    "    [1, 2, 0],\n",
    "    [2, 0, 1]\n",
    "]\n",
    "draw_tttb(tttb)\n"
   ]
  },
  {
   "cell_type": "markdown",
   "metadata": {},
   "source": [
    "*Exercise 4:* Write a function that takes a `n` by `n` matrix representing a tic-tac-toe game, and returns -1, 0, 1, or 2 indicating the game is incomplete, the game is a draw, player 1 has won, or player 2 has one, respectively. Here are some example inputs you can use to test your code:"
   ]
  },
  {
   "cell_type": "code",
   "execution_count": 9,
   "metadata": {},
   "outputs": [],
   "source": [
    "def check_tttb(board):\n",
    "    n = len(board)\n",
    "\n",
    "    for i in range(n):\n",
    "        if all(board[i][j] == 1 for j in range(n)):\n",
    "            return 1\n",
    "        if all(board[i][j] == 2 for j in range(n)):\n",
    "            return 2\n",
    "        if all(board[j][i] == 1 for j in range(n)):\n",
    "            return 1\n",
    "        if all(board[j][i] == 2 for j in range(n)):\n",
    "            return 2\n",
    "\n",
    "    if all(board[i][i] == 1 for i in range(n)) or all(board[i][n - 1 - i] == 1 for i in range(n)):\n",
    "        return 1\n",
    "    if all(board[i][i] == 2 for i in range(n)) or all(board[i][n - 1 - i] == 2 for i in range(n)):\n",
    "        return 2\n",
    "\n",
    "    for i in range(n):\n",
    "        for j in range(n):\n",
    "            if board[i][j] == 0:\n",
    "                return -1\n",
    "    return 0"
   ]
  },
  {
   "cell_type": "code",
   "execution_count": 10,
   "metadata": {},
   "outputs": [
    {
     "name": "stdout",
     "output_type": "stream",
     "text": [
      "2\n",
      "1\n",
      "-1\n",
      "-1\n"
     ]
    }
   ],
   "source": [
    "winner_is_2 = [[2, 2, 0],\n",
    "\t[2, 1, 0],\n",
    "\t[2, 1, 1]]\n",
    "\n",
    "winner_is_1 = [[1, 2, 0],\n",
    "\t[2, 1, 0],\n",
    "\t[2, 1, 1]]\n",
    "\n",
    "winner_is_also_1 = [[0, 1, 0],\n",
    "\t[2, 1, 0],\n",
    "\t[2, 1, 1]]\n",
    "\n",
    "no_winner = [[1, 2, 0],\n",
    "\t[2, 1, 0],\n",
    "\t[2, 1, 2]]\n",
    "\n",
    "also_no_winner = [[1, 2, 0],\n",
    "\t[2, 1, 0],\n",
    "\t[2, 1, 0]]\n",
    "\n",
    "print(check_tttb(winner_is_2))\n",
    "print(check_tttb(winner_is_1))\n",
    "print(check_tttb(no_winner))\n",
    "print(check_tttb(also_no_winner))"
   ]
  },
  {
   "cell_type": "markdown",
   "metadata": {},
   "source": [
    "*Exercise 5:* Write a function that takes a game board, player number, and `(x,y)` coordinates and places \"X\" or \"O\" in the correct location of the game board. Make sure that you only allow filling previously empty locations. Return `True` or `False` to indicate successful placement of \"X\" or \"O\"."
   ]
  },
  {
   "cell_type": "code",
   "execution_count": 11,
   "metadata": {},
   "outputs": [],
   "source": [
    "def place_piece(board, player, x, y):\n",
    "    if x < 0 or x >= len(board) or y < 0 or y >= len(board):\n",
    "        return False\n",
    "\n",
    "    if board[x][y] == 0:\n",
    "        board[x][y] = player\n",
    "        return True\n",
    "    else:\n",
    "        return False"
   ]
  },
  {
   "cell_type": "code",
   "execution_count": 80,
   "metadata": {},
   "outputs": [
    {
     "name": "stdout",
     "output_type": "stream",
     "text": [
      "True\n",
      "False\n",
      "True\n"
     ]
    }
   ],
   "source": [
    "n = 3\n",
    "tttb = [[0] * n for _ in range(n)]\n",
    "\n",
    "result1 = place_piece(tttb, 1, 0, 0)\n",
    "print(result1)\n",
    "\n",
    "result2 = place_piece(tttb, 2, 0, 0)\n",
    "print(result2)\n",
    "\n",
    "result3 = place_piece(tttb, 2, 1, 1)\n",
    "print(result3)"
   ]
  },
  {
   "cell_type": "markdown",
   "metadata": {},
   "source": [
    "*Exercise 6:* Modify Exercise 4 to show column and row labels so that players can specify location using \"A2\" or \"C1\"."
   ]
  },
  {
   "cell_type": "code",
   "execution_count": 12,
   "metadata": {},
   "outputs": [],
   "source": [
    "def check_tttb(board):\n",
    "    n = len(board)\n",
    "\n",
    "    for i in range(n):\n",
    "        if all(board[i][j] == 1 for j in range(n)):\n",
    "            return 1\n",
    "        if all(board[i][j] == 2 for j in range(n)):\n",
    "            return 2\n",
    "        if all(board[j][i] == 1 for j in range(n)):\n",
    "            return 1\n",
    "        if all(board[j][i] == 2 for j in range(n)):\n",
    "            return 2\n",
    "\n",
    "    if all(board[i][i] == 1 for i in range(n)) or all(board[i][n - 1 - i] == 1 for i in range(n)):\n",
    "        return 1\n",
    "    if all(board[i][i] == 2 for i in range(n)) or all(board[i][n - 1 - i] == 2 for i in range(n)):\n",
    "        return 2\n",
    "\n",
    "    for i in range(n):\n",
    "        for j in range(n):\n",
    "            if board[i][j] == 0:\n",
    "                return -1\n",
    "    return 0\n",
    "\n",
    "def get_idx(letter):\n",
    "    return ord(letter.upper()) - ord('A')\n",
    "\n",
    "# Function to convert \"A2\" to (0, 1) and \"C1\" to (2, 0)\n",
    "def convert_coords(coord):\n",
    "    if len(coord) != 2:\n",
    "        raise ValueError(\"Invalid coordinate format\")\n",
    "    letter, number = coord[0], coord[1]\n",
    "    row = int(number) - 1\n",
    "    col = get_idx(letter)\n",
    "    return row, col"
   ]
  },
  {
   "cell_type": "code",
   "execution_count": 57,
   "metadata": {},
   "outputs": [
    {
     "name": "stdout",
     "output_type": "stream",
     "text": [
      "0\n"
     ]
    }
   ],
   "source": [
    "tic_tac_toe_board = [\n",
    "    [2, 1, 2],\n",
    "    [1, 2, 1],\n",
    "    [1, 2, 1]\n",
    "]\n",
    "\n",
    "coord = \"A2\"\n",
    "row, col = convert_coords(coord)\n",
    "result = check_tttb(tic_tac_toe_board)\n",
    "print(result)"
   ]
  },
  {
   "cell_type": "markdown",
   "metadata": {},
   "source": [
    "*Exercise 7:* Write a function that takes a board, player number, and location specified as in exercise 6 and then calls exercise 5 to correctly modify the board.  "
   ]
  },
  {
   "cell_type": "code",
   "execution_count": 13,
   "metadata": {},
   "outputs": [],
   "source": [
    "def place_tttcoords(board, player, coord):\n",
    "    if len(coord) != 2:\n",
    "        raise ValueError(\"Invalid coordinate format\")\n",
    "    \n",
    "    letter, number = coord[0], coord[1]\n",
    "    row = int(number) - 1\n",
    "    col = ord(letter.upper()) - ord('A')\n",
    "\n",
    "    return place_piece(board, player, row, col)"
   ]
  },
  {
   "cell_type": "code",
   "execution_count": 63,
   "metadata": {},
   "outputs": [
    {
     "name": "stdout",
     "output_type": "stream",
     "text": [
      "True\n",
      "False\n",
      "True\n"
     ]
    }
   ],
   "source": [
    "n = 3\n",
    "tttboard = [[0] * n for _ in range(n)]\n",
    "\n",
    "result1 = place_tttcoords(tttboard, 1, \"A2\")\n",
    "print(result1)\n",
    "\n",
    "result2 = place_tttcoords(tttboard, 2, \"A2\")\n",
    "print(result2)\n",
    "\n",
    "result3 = place_tttcoords(tttboard, 2, \"C1\")\n",
    "print(result3)"
   ]
  },
  {
   "cell_type": "markdown",
   "metadata": {},
   "source": [
    "*Exercise 8:* Write a function is called with a board and player number, takes input from the player using python's `input`, and modifies the board using your function from exercise 7. Note that you should keep asking for input until you have gotten a valid input that results in a valid move."
   ]
  },
  {
   "cell_type": "code",
   "execution_count": 14,
   "metadata": {},
   "outputs": [],
   "source": [
    "def take_input(board, player):\n",
    "    while True:\n",
    "        try:\n",
    "            coord = input(f\"Player {player} (Enter a move like 'A2' or 'C1'): \")\n",
    "            if len(coord) != 2:\n",
    "                raise ValueError(\"Invalid coordinate format\")\n",
    "            \n",
    "            letter, number = coord[0], coord[1]\n",
    "            row = int(number) - 1\n",
    "            col = ord(letter.upper()) - ord('A')\n",
    "\n",
    "            if not place_piece(board, player, row, col):\n",
    "                print(\"Invalid move. Try again.\")\n",
    "                continue\n",
    "\n",
    "            return\n",
    "        except (ValueError, IndexError):\n",
    "            print(\"Invalid input. Try again.\")"
   ]
  },
  {
   "cell_type": "code",
   "execution_count": 68,
   "metadata": {},
   "outputs": [
    {
     "name": "stdout",
     "output_type": "stream",
     "text": [
      "Player 1 (Enter a move like 'A2' or 'C1'): A1\n",
      "Player 2 (Enter a move like 'A2' or 'C1'): A1\n",
      "Invalid move. Try again.\n",
      "Player 2 (Enter a move like 'A2' or 'C1'): A1\n",
      "Invalid move. Try again.\n",
      "Player 2 (Enter a move like 'A2' or 'C1'): A1\n",
      "Invalid move. Try again.\n",
      "Player 2 (Enter a move like 'A2' or 'C1'): A2\n",
      "Player 1 (Enter a move like 'A2' or 'C1'): B1\n",
      "Player 2 (Enter a move like 'A2' or 'C1'): B2\n",
      "Player 1 (Enter a move like 'A2' or 'C1'): C1\n"
     ]
    }
   ],
   "source": [
    "n = 3\n",
    "tic_tac_toe_board = [[0] * n for _ in range(n)]\n",
    "\n",
    "while True:\n",
    "    \n",
    "    take_input(tic_tac_toe_board, 1)\n",
    "    result = check_tttb(tic_tac_toe_board)\n",
    "    if result != -1:\n",
    "        break\n",
    "\n",
    "    take_input(tic_tac_toe_board, 2)\n",
    "    result = check_tttb(tic_tac_toe_board)\n",
    "    if result != -1:\n",
    "        break"
   ]
  },
  {
   "cell_type": "markdown",
   "metadata": {},
   "source": [
    "*Exercise 9:* Use all of the previous exercises to implement a full tic-tac-toe game, where an appropriate board is drawn, 2 players are repeatedly asked for a location coordinates of where they wish to place a mark, and the game status is checked until a player wins or a draw occurs."
   ]
  },
  {
   "cell_type": "code",
   "execution_count": 15,
   "metadata": {},
   "outputs": [],
   "source": [
    "def play(n):\n",
    "    tttb = create_tttb(n)\n",
    "\n",
    "    while True:\n",
    "        draw_tttb(tttb)\n",
    "        take_input(tttb, 1)\n",
    "        result = check_tttb(tttb)\n",
    "        if result != -1:\n",
    "            break\n",
    "        draw_tttb(tttb)\n",
    "        take_input(tttb, 2)\n",
    "        result = check_tttb(tttb)\n",
    "        if result != -1:\n",
    "            break\n",
    "    draw_tttb(tttb)\n",
    "\n",
    "    if result == 0:\n",
    "        print(\"It's a draw!\")\n",
    "    elif result == 1:\n",
    "        print(\"Player 1 (X) wins!\")\n",
    "    elif result == 2:\n",
    "        print(\"Player 2 (O) wins!\")"
   ]
  },
  {
   "cell_type": "code",
   "execution_count": 89,
   "metadata": {},
   "outputs": [
    {
     "name": "stdout",
     "output_type": "stream",
     "text": [
      " --- --- ---\n",
      "|   |   |   |\n",
      " --- --- ---\n",
      "|   |   |   |\n",
      " --- --- ---\n",
      "|   |   |   |\n",
      " --- --- ---\n",
      "Player 1 (Enter a move like 'A2' or 'C1'): A1\n",
      " --- --- ---\n",
      "| X |   |   |\n",
      " --- --- ---\n",
      "|   |   |   |\n",
      " --- --- ---\n",
      "|   |   |   |\n",
      " --- --- ---\n",
      "Player 2 (Enter a move like 'A2' or 'C1'): B1\n",
      " --- --- ---\n",
      "| X | O |   |\n",
      " --- --- ---\n",
      "|   |   |   |\n",
      " --- --- ---\n",
      "|   |   |   |\n",
      " --- --- ---\n",
      "Player 1 (Enter a move like 'A2' or 'C1'): A2\n",
      " --- --- ---\n",
      "| X | O |   |\n",
      " --- --- ---\n",
      "| X |   |   |\n",
      " --- --- ---\n",
      "|   |   |   |\n",
      " --- --- ---\n",
      "Player 2 (Enter a move like 'A2' or 'C1'): B2\n",
      " --- --- ---\n",
      "| X | O |   |\n",
      " --- --- ---\n",
      "| X | O |   |\n",
      " --- --- ---\n",
      "|   |   |   |\n",
      " --- --- ---\n",
      "Player 1 (Enter a move like 'A2' or 'C1'): A3\n",
      " --- --- ---\n",
      "| X | O |   |\n",
      " --- --- ---\n",
      "| X | O |   |\n",
      " --- --- ---\n",
      "| X |   |   |\n",
      " --- --- ---\n",
      "Player 1 (X) wins!\n"
     ]
    }
   ],
   "source": [
    "n = 3\n",
    "play(n)"
   ]
  },
  {
   "cell_type": "markdown",
   "metadata": {},
   "source": [
    "*Exercise 10:* Test that your game works for 5x5 Tic Tac Toe.  "
   ]
  },
  {
   "cell_type": "code",
   "execution_count": 90,
   "metadata": {},
   "outputs": [
    {
     "name": "stdout",
     "output_type": "stream",
     "text": [
      " --- --- --- --- ---\n",
      "|   |   |   |   |   |\n",
      " --- --- --- --- ---\n",
      "|   |   |   |   |   |\n",
      " --- --- --- --- ---\n",
      "|   |   |   |   |   |\n",
      " --- --- --- --- ---\n",
      "|   |   |   |   |   |\n",
      " --- --- --- --- ---\n",
      "|   |   |   |   |   |\n",
      " --- --- --- --- ---\n",
      "Player 1 (Enter a move like 'A2' or 'C1'): A4\n",
      " --- --- --- --- ---\n",
      "|   |   |   |   |   |\n",
      " --- --- --- --- ---\n",
      "|   |   |   |   |   |\n",
      " --- --- --- --- ---\n",
      "|   |   |   |   |   |\n",
      " --- --- --- --- ---\n",
      "| X |   |   |   |   |\n",
      " --- --- --- --- ---\n",
      "|   |   |   |   |   |\n",
      " --- --- --- --- ---\n",
      "Player 2 (Enter a move like 'A2' or 'C1'): C5\n",
      " --- --- --- --- ---\n",
      "|   |   |   |   |   |\n",
      " --- --- --- --- ---\n",
      "|   |   |   |   |   |\n",
      " --- --- --- --- ---\n",
      "|   |   |   |   |   |\n",
      " --- --- --- --- ---\n",
      "| X |   |   |   |   |\n",
      " --- --- --- --- ---\n",
      "|   |   | O |   |   |\n",
      " --- --- --- --- ---\n",
      "Player 1 (Enter a move like 'A2' or 'C1'): A2\n",
      " --- --- --- --- ---\n",
      "|   |   |   |   |   |\n",
      " --- --- --- --- ---\n",
      "| X |   |   |   |   |\n",
      " --- --- --- --- ---\n",
      "|   |   |   |   |   |\n",
      " --- --- --- --- ---\n",
      "| X |   |   |   |   |\n",
      " --- --- --- --- ---\n",
      "|   |   | O |   |   |\n",
      " --- --- --- --- ---\n",
      "Player 2 (Enter a move like 'A2' or 'C1'): D4\n",
      " --- --- --- --- ---\n",
      "|   |   |   |   |   |\n",
      " --- --- --- --- ---\n",
      "| X |   |   |   |   |\n",
      " --- --- --- --- ---\n",
      "|   |   |   |   |   |\n",
      " --- --- --- --- ---\n",
      "| X |   |   | O |   |\n",
      " --- --- --- --- ---\n",
      "|   |   | O |   |   |\n",
      " --- --- --- --- ---\n",
      "Player 1 (Enter a move like 'A2' or 'C1'): A3\n",
      " --- --- --- --- ---\n",
      "|   |   |   |   |   |\n",
      " --- --- --- --- ---\n",
      "| X |   |   |   |   |\n",
      " --- --- --- --- ---\n",
      "| X |   |   |   |   |\n",
      " --- --- --- --- ---\n",
      "| X |   |   | O |   |\n",
      " --- --- --- --- ---\n",
      "|   |   | O |   |   |\n",
      " --- --- --- --- ---\n",
      "Player 2 (Enter a move like 'A2' or 'C1'): E1\n",
      " --- --- --- --- ---\n",
      "|   |   |   |   | O |\n",
      " --- --- --- --- ---\n",
      "| X |   |   |   |   |\n",
      " --- --- --- --- ---\n",
      "| X |   |   |   |   |\n",
      " --- --- --- --- ---\n",
      "| X |   |   | O |   |\n",
      " --- --- --- --- ---\n",
      "|   |   | O |   |   |\n",
      " --- --- --- --- ---\n",
      "Player 1 (Enter a move like 'A2' or 'C1'): A1\n",
      " --- --- --- --- ---\n",
      "| X |   |   |   | O |\n",
      " --- --- --- --- ---\n",
      "| X |   |   |   |   |\n",
      " --- --- --- --- ---\n",
      "| X |   |   |   |   |\n",
      " --- --- --- --- ---\n",
      "| X |   |   | O |   |\n",
      " --- --- --- --- ---\n",
      "|   |   | O |   |   |\n",
      " --- --- --- --- ---\n",
      "Player 2 (Enter a move like 'A2' or 'C1'): E5\n",
      " --- --- --- --- ---\n",
      "| X |   |   |   | O |\n",
      " --- --- --- --- ---\n",
      "| X |   |   |   |   |\n",
      " --- --- --- --- ---\n",
      "| X |   |   |   |   |\n",
      " --- --- --- --- ---\n",
      "| X |   |   | O |   |\n",
      " --- --- --- --- ---\n",
      "|   |   | O |   | O |\n",
      " --- --- --- --- ---\n",
      "Player 1 (Enter a move like 'A2' or 'C1'): A5\n",
      " --- --- --- --- ---\n",
      "| X |   |   |   | O |\n",
      " --- --- --- --- ---\n",
      "| X |   |   |   |   |\n",
      " --- --- --- --- ---\n",
      "| X |   |   |   |   |\n",
      " --- --- --- --- ---\n",
      "| X |   |   | O |   |\n",
      " --- --- --- --- ---\n",
      "| X |   | O |   | O |\n",
      " --- --- --- --- ---\n",
      "Player 1 (X) wins!\n"
     ]
    }
   ],
   "source": [
    "n = 5\n",
    "play(n)"
   ]
  },
  {
   "cell_type": "markdown",
   "metadata": {},
   "source": [
    "*Exercise 11:* (Advanced / Challenge) Develop a version of the game where one player is the computer. Note that you don't need to do an extensive seach for the best move. You can have the computer simply protect against loosing and otherwise try to win with straight or diagonal patterns."
   ]
  },
  {
   "cell_type": "code",
   "execution_count": 18,
   "metadata": {},
   "outputs": [],
   "source": [
    "import random\n",
    "\n",
    "def comp(board, player):\n",
    "    n = len(board)\n",
    "\n",
    "    for i in range(n):\n",
    "        for j in range(n):\n",
    "            if board[i][j] == 0:\n",
    "                board[i][j] = player\n",
    "                if check_tttb(board) == player:\n",
    "                    return\n",
    "                board[i][j] = 0\n",
    "\n",
    "    opp = 3 - player\n",
    "    for i in range(n):\n",
    "        for j in range(n):\n",
    "            if board[i][j] == 0:\n",
    "                board[i][j] = opp\n",
    "                if check_tttb(board) == opp:\n",
    "                    board[i][j] = player\n",
    "                    return\n",
    "                board[i][j] = 0\n",
    "\n",
    "    while True:\n",
    "        x = random.randint(0, n - 1)\n",
    "        y = random.randint(0, n - 1)\n",
    "        if board[x][y] == 0:\n",
    "            board[x][y] = player\n",
    "            return\n",
    "        \n",
    "def play_vs_comp(n):\n",
    "    tttb = create_tttb(n)\n",
    "\n",
    "    while True:\n",
    "        draw_tttb(tttb)\n",
    "        take_input(tttb, 1)\n",
    "        result = check_tttb(tttb)\n",
    "        if result != -1:\n",
    "            break\n",
    "\n",
    "        draw_tttb(tttb)\n",
    "        comp(tttb, 2)\n",
    "        result = check_tttb(tttb)\n",
    "        if result != -1:\n",
    "            break\n",
    "\n",
    "    draw_tttb(tttb)\n",
    "    \n",
    "    if result == 0:\n",
    "        print(\"It's a draw!\")\n",
    "    elif result == 1:\n",
    "        print(\"Player 1 (You) wins!\")\n",
    "    elif result == 2:\n",
    "        print(\"Computer wins!\")"
   ]
  },
  {
   "cell_type": "code",
   "execution_count": 19,
   "metadata": {},
   "outputs": [
    {
     "name": "stdout",
     "output_type": "stream",
     "text": [
      " --- --- ---\n",
      "|   |   |   |\n",
      " --- --- ---\n",
      "|   |   |   |\n",
      " --- --- ---\n",
      "|   |   |   |\n",
      " --- --- ---\n",
      "Player 1 (Enter a move like 'A2' or 'C1'): A2\n",
      " --- --- ---\n",
      "|   |   |   |\n",
      " --- --- ---\n",
      "| X |   |   |\n",
      " --- --- ---\n",
      "|   |   |   |\n",
      " --- --- ---\n",
      " --- --- ---\n",
      "|   |   |   |\n",
      " --- --- ---\n",
      "| X | O |   |\n",
      " --- --- ---\n",
      "|   |   |   |\n",
      " --- --- ---\n",
      "Player 1 (Enter a move like 'A2' or 'C1'): B1\n",
      " --- --- ---\n",
      "|   | X |   |\n",
      " --- --- ---\n",
      "| X | O |   |\n",
      " --- --- ---\n",
      "|   |   |   |\n",
      " --- --- ---\n",
      " --- --- ---\n",
      "| O | X |   |\n",
      " --- --- ---\n",
      "| X | O |   |\n",
      " --- --- ---\n",
      "|   |   |   |\n",
      " --- --- ---\n",
      "Player 1 (Enter a move like 'A2' or 'C1'): C3\n",
      " --- --- ---\n",
      "| O | X |   |\n",
      " --- --- ---\n",
      "| X | O |   |\n",
      " --- --- ---\n",
      "|   |   | X |\n",
      " --- --- ---\n",
      " --- --- ---\n",
      "| O | X | O |\n",
      " --- --- ---\n",
      "| X | O |   |\n",
      " --- --- ---\n",
      "|   |   | X |\n",
      " --- --- ---\n",
      "Player 1 (Enter a move like 'A2' or 'C1'): A3\n",
      " --- --- ---\n",
      "| O | X | O |\n",
      " --- --- ---\n",
      "| X | O |   |\n",
      " --- --- ---\n",
      "| X |   | X |\n",
      " --- --- ---\n",
      " --- --- ---\n",
      "| O | X | O |\n",
      " --- --- ---\n",
      "| X | O |   |\n",
      " --- --- ---\n",
      "| X | O | X |\n",
      " --- --- ---\n",
      "Player 1 (Enter a move like 'A2' or 'C1'): C2\n",
      " --- --- ---\n",
      "| O | X | O |\n",
      " --- --- ---\n",
      "| X | O | X |\n",
      " --- --- ---\n",
      "| X | O | X |\n",
      " --- --- ---\n",
      "It's a draw!\n"
     ]
    }
   ],
   "source": [
    "n = 3\n",
    "play_vs_comp(n)"
   ]
  }
 ],
 "metadata": {
  "kernelspec": {
   "display_name": "Python 3 (ipykernel)",
   "language": "python",
   "name": "python3"
  },
  "language_info": {
   "codemirror_mode": {
    "name": "ipython",
    "version": 3
   },
   "file_extension": ".py",
   "mimetype": "text/x-python",
   "name": "python",
   "nbconvert_exporter": "python",
   "pygments_lexer": "ipython3",
   "version": "3.9.13"
  }
 },
 "nbformat": 4,
 "nbformat_minor": 2
}
